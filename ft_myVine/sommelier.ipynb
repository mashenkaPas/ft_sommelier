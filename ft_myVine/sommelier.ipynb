{
 "cells": [
  {
   "cell_type": "markdown",
   "metadata": {},
   "source": [
    "\n"
   ]
  },
  {
   "cell_type": "markdown",
   "metadata": {},
   "source": [
    "# V.1 Exploring the green reds\n",
    "\n",
    "## a) Write a function that will plot a scatterplot matrix of your red wine data"
   ]
  },
  {
   "cell_type": "code",
   "execution_count": 4,
   "metadata": {},
   "outputs": [
    {
     "ename": "ModuleNotFoundError",
     "evalue": "No module named 'pandas'",
     "output_type": "error",
     "traceback": [
      "\u001b[0;31m---------------------------------------------------------------------------\u001b[0m",
      "\u001b[0;31mModuleNotFoundError\u001b[0m                       Traceback (most recent call last)",
      "\u001b[0;32m<ipython-input-4-44c4e5b13be6>\u001b[0m in \u001b[0;36m<module>\u001b[0;34m\u001b[0m\n\u001b[0;32m----> 1\u001b[0;31m \u001b[0;32mimport\u001b[0m \u001b[0mpandas\u001b[0m \u001b[0;32mas\u001b[0m \u001b[0mpd\u001b[0m\u001b[0;34m\u001b[0m\u001b[0;34m\u001b[0m\u001b[0m\n\u001b[0m\u001b[1;32m      2\u001b[0m \u001b[0;32mimport\u001b[0m \u001b[0mmatplotlib\u001b[0m\u001b[0;34m.\u001b[0m\u001b[0mpyplot\u001b[0m \u001b[0;32mas\u001b[0m \u001b[0mplt\u001b[0m\u001b[0;34m\u001b[0m\u001b[0;34m\u001b[0m\u001b[0m\n\u001b[1;32m      3\u001b[0m \u001b[0;32mimport\u001b[0m \u001b[0mmatplotlib\u001b[0m\u001b[0;34m.\u001b[0m\u001b[0mpatches\u001b[0m \u001b[0;32mas\u001b[0m \u001b[0mpatches\u001b[0m\u001b[0;34m\u001b[0m\u001b[0;34m\u001b[0m\u001b[0m\n\u001b[1;32m      4\u001b[0m \u001b[0;32mimport\u001b[0m \u001b[0mrandom\u001b[0m\u001b[0;34m\u001b[0m\u001b[0;34m\u001b[0m\u001b[0m\n\u001b[1;32m      5\u001b[0m \u001b[0;32mimport\u001b[0m \u001b[0mmath\u001b[0m\u001b[0;34m\u001b[0m\u001b[0;34m\u001b[0m\u001b[0m\n",
      "\u001b[0;31mModuleNotFoundError\u001b[0m: No module named 'pandas'"
     ]
    }
   ],
   "source": [
    "import pandas as pd\n",
    "import matplotlib.pyplot as plt\n",
    "import matplotlib.patches as patches\n",
    "import random\n",
    "import math\n",
    "def plot_scatter_matrix(winedata, good_threshold, bad_threshold, save_plot=False):\n",
    "  c = winedata.columns\n",
    "  fig, axes = plt.subplots(len(c) - 1, len(c) - 1, figsize=(15,15))\n",
    "  fig.subplots_adjust(top=0.99, bottom=0.01, left=0.01, right=0.99, wspace=0, hspace=0)\n",
    "  for i in range(len(c) - 1):\n",
    "      for j in range(len(c) - 1):\n",
    "          ax = axes[i, j]\n",
    "          p = patches.Rectangle((0, 0), 1, 1, fill=True, transform=ax.transAxes,\n",
    "              clip_on=False, facecolor='#000000', zorder=0.1, edgecolor='#ffffff')\n",
    "          ax.add_patch(p)\n",
    "          if (i != j):\n",
    "              y1 = winedata[winedata['quality'] < bad_threshold][c[i]]\n",
    "              x1 = winedata[winedata['quality'] < bad_threshold][c[j]]\n",
    "              y2 = winedata[winedata['quality'] > good_threshold][c[i]]\n",
    "              x2 = winedata[winedata['quality'] > good_threshold][c[j]]\n",
    "\n",
    "              ax.scatter(x1, y1, marker='.', s=20, linewidths=0, c='m', alpha=0.8)\n",
    "              ax.scatter(x2, y2, marker='.', s=20, linewidths=0, c='c', alpha=0.8)\n",
    "          else:\n",
    "              ax.text(0.5, 0.5, c[i].replace(' ', '\\n'), horizontalalignment='center', verticalalignment='center',\n",
    "                  transform=ax.transAxes, fontsize='x-large', color=\"#ffffff\")\n",
    "          ax.set_axis_off()\n",
    "\n",
    "  if (save_plot == False):\n",
    "      plt.show()\n",
    "  else:\n",
    "     fig.savefig(\"./test.png\")\n",
    "  return fig"
   ]
  },
  {
   "cell_type": "code",
   "execution_count": null,
   "metadata": {
    "scrolled": true
   },
   "outputs": [],
   "source": [
    "wine_data = pd.read_csv(\"./winequality-red.csv\", sep=';')\n",
    "fig = plot_scatter_matrix(wine_data, 6, 5, True)\n",
    "plt.show(fig)"
   ]
  },
  {
   "cell_type": "markdown",
   "metadata": {},
   "source": [
    "## b) which factors do you think will be most useful to your perceptron for distinguishing high quality vs. low quality wines? Why?"
   ]
  },
  {
   "cell_type": "markdown",
   "metadata": {},
   "source": [
    "Wine factors such as alcohol and ph will work well at distinguishing wines. Those factors have clear groups that allow perceptrons to easily find classification groups."
   ]
  },
  {
   "cell_type": "markdown",
   "metadata": {},
   "source": [
    "# V.2 Learning to perceptron"
   ]
  },
  {
   "cell_type": "markdown",
   "metadata": {},
   "source": [
    "## a) Implement a perceptron, b) implement a function to train your perceptron."
   ]
  },
  {
   "cell_type": "code",
   "execution_count": null,
   "metadata": {},
   "outputs": [],
   "source": [
    "# Take the wine as good, if it's quality > 5\n",
    "wine_data = wine_data.assign(goodness=pd.Series(wine_data['quality'] > 5))\n",
    "# selecting the subset from `wine_data`\n",
    "# only use wines with a score of 8 or higher and wines with a score of 3 or lower\n",
    "features = ['pH', 'alcohol', 'quality', 'goodness']\n",
    "selected_wine_data = wine_data[(wine_data['quality'] > 7) | (wine_data['quality'] < 4)][features]\n",
    "selected_wine_data = selected_wine_data.reset_index(drop=True)\n",
    "\n",
    "X = selected_wine_data.loc[:, ['pH', 'alcohol']]\n",
    "Y = selected_wine_data['goodness'].values\n",
    "print (selected_wine_data)\n",
    "# print('{} samples selected:\\n'.format(selected_wine_data.shape[0]))"
   ]
  },
  {
   "cell_type": "code",
   "execution_count": null,
   "metadata": {},
   "outputs": [],
   "source": [
    "def ft_dot(arr1, arr2):\n",
    "    if len(arr1) != len(arr2):\n",
    "        raise ValueError('arguments have different length')\n",
    "    result = 0.\n",
    "    for i in range(len(arr1)):\n",
    "        result += arr1[i] * arr2[i]\n",
    "    return result\n",
    "\n",
    "\n",
    "class Perceptron:\n",
    "    \n",
    "    def __init__(self, lr):\n",
    "        self.W = None\n",
    "        self.lr = lr\n",
    "        self.performance = list()\n",
    "    \n",
    "    def predict(self, inp):\n",
    "        summ = ft_dot(inp, self.W[1:]) + self.W[0]\n",
    "        if summ > 0.0:\n",
    "            return 1\n",
    "        else:\n",
    "            return 0\n",
    "    def train(self, x, y,verbose, epochs):\n",
    "        epoch = 0\n",
    "        if self.W is None:\n",
    "            self.W = [0.0001 * random.uniform(-1, 1) for i in range(X.shape[1] + 1)]\n",
    "        while epoch <= epochs or epochs == 0:\n",
    "            epoch_errors = 0\n",
    "            for xi, yi in zip(x, y):\n",
    "                pred = self.lr * (yi - self.predict(xi))\n",
    "                self.W[1:] += pred * xi\n",
    "                self.W[0] += pred\n",
    "                epoch_errors += int(pred != 0.0)\n",
    "            self.performance.append((epoch, epoch_errors, self.W[1:], self.W[0]))\n",
    "            if verbose and epoch % 10 == 0:\n",
    "                print('Epoch {}: {} errors'.format(epoch, epoch_errors))\n",
    "            epoch += 1\n",
    "            if epoch_errors == 0 and epochs == 0:\n",
    "                break\n",
    "        \n",
    "        return self.performance"
   ]
  },
  {
   "cell_type": "code",
   "execution_count": null,
   "metadata": {
    "scrolled": true
   },
   "outputs": [],
   "source": [
    "perceptron = Perceptron(lr=0.005)\n",
    "stats = perceptron.train(X.values, Y,verbose=True, epochs=0)\n",
    "import pprint\n",
    "import matplotlib.pyplot as plt\n",
    "pp = pprint.PrettyPrinter(indent=4)\n",
    "pp.pprint(stats)"
   ]
  },
  {
   "cell_type": "markdown",
   "metadata": {},
   "source": [
    "## c)function that will take the output of your perceptron training function and your red wine data and generate two plots in one figure:"
   ]
  },
  {
   "cell_type": "code",
   "execution_count": null,
   "metadata": {},
   "outputs": [],
   "source": [
    "def plot_performance(stats, wine_data, good_thresh, bad_thresh, epoch=-1, save_plot=False):\n",
    "    fig, axe = plt.subplots(2, 1, figsize=(10,10))\n",
    "#     fig.subplots_adjust(top=0.99, bottom=0.01, left=0.01, right=0.99, wspace=0, hspace=0)\n",
    "    plt.figure(1)\n",
    "    y2 = wine_data[(wine_data['quality'] >= good_thresh )]['pH']\n",
    "    x2 = wine_data[(wine_data['quality']>= good_thresh)]['alcohol']\n",
    "    y1 = wine_data[(wine_data['quality'] <= bad_thresh)]['pH']\n",
    "    x1 = wine_data[(wine_data['quality'] <= bad_thresh)]['alcohol']\n",
    "    # print(x1.values)\n",
    "    res = stats[epoch]\n",
    "    # for \n",
    "    # y = (-(b / w2) / (b / w1))x + (-b / w2)\n",
    "    # y = (-(res[3] / res[2][1]) / (res[3] / res[2][0])) * x + (-res[3] / res[2][1])\n",
    "    plt.subplot(211)\n",
    "    plt.scatter(x1.values, y1.values, marker='o', s=20, linewidths=0, c='r', alpha=0.8)\n",
    "    plt.scatter(x2.values, y2.values, marker='o', s=20, linewidths=0, c='g', alpha=0.8)\n",
    "    w2, w1 = res[2]\n",
    "    b = res[3]\n",
    "    # for i in range()):\n",
    "    #     x.append(i)\n",
    "    #     y.append((-(res[3] / res[2][1]) / (res[3] / res[2][0])) * i + (-res[3] / res[2][1]))\n",
    "    #     print(\"w1 = {}, w2 = {}, b = {}, x = {}, y = {}\".format(, , , i, y[-1]))\n",
    "    x = range(int(min(wine_data['alcohol'].values)), int(max(wine_data['alcohol'].values)))\n",
    "    y = (w1 * x  + b) / -w2\n",
    "    plt.plot(x,  y)\n",
    "\n",
    "    x = []\n",
    "    y = []\n",
    "    for col in stats[:epoch]:\n",
    "        x.append(col[0])\n",
    "        y.append(col[1])\n",
    "    plt.subplot(212)\n",
    "    plt.plot(x, y)\n",
    "    if (save_plot==False):   \n",
    "        plt.show()\n",
    "    else:\n",
    "        fig.savefig(\"./err_boundary.png\")\n",
    "    return fig\n",
    "\n"
   ]
  },
  {
   "cell_type": "markdown",
   "metadata": {},
   "source": [
    "## d) Use the function you just created in part c) to plot and verify that your perceptron is learning more efficiently!"
   ]
  },
  {
   "cell_type": "code",
   "execution_count": null,
   "metadata": {},
   "outputs": [],
   "source": [
    "plt.show(plot_performance(stats, selected_wine_data, 8, 3))"
   ]
  },
  {
   "cell_type": "markdown",
   "metadata": {},
   "source": [
    "# V.3 My fair ADALINE\n",
    "\n",
    "## Implement an ADALINE"
   ]
  },
  {
   "cell_type": "code",
   "execution_count": null,
   "metadata": {},
   "outputs": [],
   "source": [
    "def ft_dot(arr1, arr2):\n",
    "    if len(arr1) != len(arr2):\n",
    "        raise ValueError('arguments have different length')\n",
    "    result = 0.0\n",
    "    for a, b in zip(arr1, arr2):\n",
    "        result += a * b\n",
    "    return result\n",
    "\n",
    "\n",
    "class Adaline:\n",
    "    def __init__(self):\n",
    "        self.W = None\n",
    "        self.performance = list()\n",
    "    \n",
    "    def Transpose(self, m):\n",
    "        res = list(map(list, zip(*m)))\n",
    "        return (res)\n",
    "    \n",
    "    def _net_input_(self, xi):\n",
    "        return ft_dot(self.W[1:], xi) + self.W[0]\n",
    "\n",
    "    \n",
    "    def activation(self, x):\n",
    "        return 1 / (1 + math.exp(-self._net_input_(x)))\n",
    "    \n",
    "    def predict(self, X, Y):\n",
    "        num_missclass = 0\n",
    "        for xi, yi in zip(X, Y):\n",
    "            prediction = 1 if self.activation(xi) > 0.5 else 0\n",
    "            num_missclass += int(prediction != int(yi))\n",
    "        return (num_missclass)\n",
    "\n",
    "    def train(self, X, Y, epochs, lr, verbose=False, mode=\"batch\"):\n",
    "        cur_epoch = 0\n",
    "        flag = 1 if mode == \"batch\" else 0\n",
    "        if self.W == None:\n",
    "            self.W = [random.uniform(-1, 1) for i in range(X.shape[1] + 1)]\n",
    "        while cur_epoch < epochs or epochs == 0:\n",
    "            errors = []\n",
    "            for xi, yi in zip (X, Y):\n",
    "                err = yi - self.activation(xi)\n",
    "                errors.append(err)\n",
    "                if not flag:\n",
    "                    self.W[0] += lr * err\n",
    "                    self.W[1:] += lr * err * xi\n",
    "            if flag:\n",
    "                self.W[0] += lr * sum(errors)\n",
    "                self.W[1:] += lr * ft_dot(X, errors)\n",
    "            pred = self.predict(X, Y)\n",
    "            self.performance.append([cur_epoch, pred, self.W[1:], self.W[0]])\n",
    "            if verbose and cur_epoch % 10 == 0:\n",
    "                print('Epoch {}: {} errors'.format(cur_epoch, pred))\n",
    "            if epochs == 0 and errors == 0:\n",
    "                break;\n",
    "            cur_epoch +=1\n",
    "        return self.performance"
   ]
  },
  {
   "cell_type": "code",
   "execution_count": null,
   "metadata": {},
   "outputs": [],
   "source": [
    "ada = Adaline()\n",
    "performance = ada.train(X.values, Y, 6000, 0.005, verbose=True, mode=\"online\")\n"
   ]
  },
  {
   "cell_type": "code",
   "execution_count": null,
   "metadata": {},
   "outputs": [],
   "source": [
    "print (performance)"
   ]
  },
  {
   "cell_type": "code",
   "execution_count": null,
   "metadata": {
    "scrolled": false
   },
   "outputs": [],
   "source": [
    "plt.show(plot_performance(performance, selected_wine_data, 7, 4,save_plot = True))"
   ]
  },
  {
   "cell_type": "code",
   "execution_count": null,
   "metadata": {},
   "outputs": [],
   "source": [
    "print (wine_data.sample(frac=0.7))"
   ]
  },
  {
   "cell_type": "markdown",
   "metadata": {},
   "source": [
    "# V.4 Advanced wine sampling and resampling"
   ]
  },
  {
   "cell_type": "code",
   "execution_count": null,
   "metadata": {},
   "outputs": [],
   "source": [
    "def holdout_partition(data, part = 0.7):\n",
    "    training = data.sample(frac=part)\n",
    "    validation = data.query('index not in @training.index')\n",
    "    return (training, validation)"
   ]
  },
  {
   "cell_type": "code",
   "execution_count": null,
   "metadata": {},
   "outputs": [],
   "source": [
    "train, validation = holdout_partition(selected_wine_data)\n",
    "print (train)\n",
    "print (validation)"
   ]
  },
  {
   "cell_type": "code",
   "execution_count": null,
   "metadata": {},
   "outputs": [],
   "source": [
    "def k_fold_split(data, k, shuffle=True):\n",
    "    folds = []\n",
    "    \n",
    "    if shuffle:\n",
    "        data = data.sample(frac=1).reset_index(drop=True)\n",
    "    start = 0\n",
    "    end = 0\n",
    "    fold_size = 0\n",
    "    for i in range(k):\n",
    "        start += fold_size\n",
    "        fold_size = data.shape[0] // k + 1 if i < data.shape[0] % k else data.shape[0] // k\n",
    "        end = start + fold_size\n",
    "        test_data = data.iloc[start: end, :]\n",
    "        train_data = data.query('index not in @test_data.index')\n",
    "        folds.append([train_data, test_data])\n",
    "    \n",
    "    return pd.DataFrame(folds, columns=[\"trainData\", \"testData\"])"
   ]
  },
  {
   "cell_type": "code",
   "execution_count": null,
   "metadata": {},
   "outputs": [],
   "source": [
    "folds = k_fold_split(selected_wine_data, 5)\n",
    "print (folds[\"testData\"][3])"
   ]
  },
  {
   "cell_type": "code",
   "execution_count": null,
   "metadata": {},
   "outputs": [],
   "source": [
    "def k_fold_train(data, lr, epochs, features):\n",
    "    folds = k_fold_split(data, 5)\n",
    "#     X = data[0].loc[:, features].values\n",
    "#     Y = data[0].loc['goodness'].values\n",
    "    ada = Adaline()\n",
    "    i = 0\n",
    "    errors = 0\n",
    "    for fold in folds.values:\n",
    "        ada.train(fold[0].loc[:, features].values, fold[0]['goodness'].values, epochs, lr, verbose=False, mode=\"batch\")\n",
    "        errors += ada.predict(fold[1].loc[:,features].values, fold[1]['goodness'].values)\n",
    "        i+=1\n",
    "    print (\"lr = {}, errors={}, epochs per fold = {}, features= {}\".format(lr, errors, epochs, features) )"
   ]
  },
  {
   "cell_type": "code",
   "execution_count": null,
   "metadata": {},
   "outputs": [],
   "source": [
    "lr_array = [0.0005, 0.005, 0.05, 0.0035, 0.009, 0.0032, 0.00053, 0.0001, 0.01]"
   ]
  },
  {
   "cell_type": "code",
   "execution_count": null,
   "metadata": {
    "scrolled": true
   },
   "outputs": [],
   "source": [
    "for rate in lr_array:\n",
    "    for i in range(1, 5) :\n",
    "        print (\"Run No:{}, epochs={}, lr ={}\".format(i, i * 1000, rate))\n",
    "        k_fold_train(selected_wine_data, rate, i * 1000, ['pH', 'alcohol'])"
   ]
  },
  {
   "cell_type": "code",
   "execution_count": null,
   "metadata": {},
   "outputs": [],
   "source": [
    "for rate in lr_array:\n",
    "    for i in range(1, 5):\n",
    "        print (\"Run No:{}, epochs={}, lr ={}\".format(i, i * 1000, rate))\n",
    "        k_fold_train(data, rate, i * 1000, features)"
   ]
  },
  {
   "cell_type": "code",
   "execution_count": null,
   "metadata": {},
   "outputs": [],
   "source": [
    "\n",
    "columns = ['pH', 'alcohol', 'volatile acidity']\n",
    "k_fold_train(wine_data[(wine_data['quality'] > 7) | (wine_data['quality'] < 4)], 0.0035,  2000, columns)\n",
    "\n",
    "columns = ['pH', 'alcohol', 'sulphates']\n",
    "k_fold_train(wine_data[(wine_data['quality'] > 7) | (wine_data['quality'] < 4)], 0.0035,  2000, columns)\n",
    "\n",
    "columns = ['pH', 'alcohol', 'fixed acidity']\n",
    "k_fold_train(wine_data[(wine_data['quality'] > 7) | (wine_data['quality'] < 4)], 0.0035,  2000, columns)\n",
    "\n",
    "\n",
    "columns = ['pH', 'alcohol', 'sulphates', 'volatile acidity']\n",
    "k_fold_train(wine_data[(wine_data['quality'] > 7) | (wine_data['quality'] < 4)], 0.0035,  2000, columns)\n",
    "\n",
    "\n",
    "columns = ['pH', 'alcohol', 'sulphates', 'fixed acidity']\n",
    "k_fold_train(wine_data[(wine_data['quality'] > 7) | (wine_data['quality'] < 4)], 0.0035,  2000, columns)\n",
    "\n",
    "\n",
    "columns = ['pH', 'alcohol', 'volatile acidity', 'fixed acidity']\n",
    "k_fold_train(wine_data[(wine_data['quality'] > 7) | (wine_data['quality'] < 4)], 0.0035,  2000, columns)\n",
    "\n",
    "\n",
    "columns = ['pH', 'alcohol', 'sulphates', 'volatile acidity', 'fixed acidity']\n",
    "k_fold_train(wine_data[(wine_data['quality'] > 7) | (wine_data['quality'] < 4)], 0.0035,  2000, columns)"
   ]
  },
  {
   "cell_type": "markdown",
   "metadata": {},
   "source": [
    "# V.6 Marvin’s rebuttal"
   ]
  },
  {
   "cell_type": "code",
   "execution_count": null,
   "metadata": {},
   "outputs": [],
   "source": [
    "\n",
    "def normalize(data):\n",
    "    r = data.max() - data.min()\n",
    "    m = mean(data)\n",
    "    for i in range(len(data)):\n",
    "        data.values[i] = (data.values[i] - m) / r\n",
    "    return data\n",
    "\n",
    "def mean(data):\n",
    "    return (sum(data) / len(data))\n",
    "\n",
    "df = pd.read_csv(\"./Pan Galactic Gargle Blaster.csv\", sep=';')\n",
    "x1 = normalize(df.loc[:, 'wonderflonium'])\n",
    "x2 = normalize(df.loc[:, 'fallian marsh gas'])\n",
    "\n",
    "df = df.assign(r=pd.Series(x1 * x1 + x2 * x2).pow(1./2))\n",
    "df = df.assign(phi=pd.Series([math.atan2(x, y) for (x, y) in zip(x1, x2)]))\n",
    "data = df[['r', 'phi', 'quality']]\n",
    "data = data.assign(goodness=pd.Series(wine_data['quality'] > 5))\n",
    "# print (data)\n",
    "matrixplot = plot_scatter_matrix(data[['r', 'phi', 'quality']], 7, 4, True)\n"
   ]
  },
  {
   "cell_type": "code",
   "execution_count": null,
   "metadata": {},
   "outputs": [],
   "source": [
    "k_fold_train(data[(data['quality'] > 8) | (data['quality'] < 3)], 0.0035,  2000, ['r', 'phi'])"
   ]
  }
 ],
 "metadata": {
  "kernelspec": {
   "display_name": "Python 3",
   "language": "python",
   "name": "python3"
  },
  "language_info": {
   "codemirror_mode": {
    "name": "ipython",
    "version": 3
   },
   "file_extension": ".py",
   "mimetype": "text/x-python",
   "name": "python",
   "nbconvert_exporter": "python",
   "pygments_lexer": "ipython3",
   "version": "3.7.3"
  }
 },
 "nbformat": 4,
 "nbformat_minor": 2
}
